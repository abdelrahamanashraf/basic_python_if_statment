{
 "cells": [
  {
   "cell_type": "code",
   "execution_count": 3,
   "metadata": {},
   "outputs": [
    {
     "name": "stdout",
     "output_type": "stream",
     "text": [
      "enter the first number : -8\n",
      "enter the second number : -7\n",
      "enter the third  number : 5\n",
      " the equation have -1.34105201842506 and 0.46605201842506006 \n"
     ]
    }
   ],
   "source": [
    "import math #import the library's math to make the equation \n",
    "\n",
    "a=float(input(\"enter the first number : \")) #get numbers from user \n",
    "b=float(input(\"enter the second number : \"))\n",
    "c=float(input(\"enter the third  number : \"))\n",
    "\n",
    "d = b**2-4*a*c #calculate the discriminant \n",
    "\n",
    "if d < 0:  # when the number is postive give a message no real solution \n",
    "    print (\"This equation has no real solution\")\n",
    "    \n",
    "elif d == 0: # when the number is equal zero put on eqution to give on solution  \n",
    "    x = (-b+math.sqrt(b**2-4*a*c))/2*a\n",
    "    print (\"This equation has one solutions: \"), x\n",
    "    \n",
    "  # finally it's not put user postive or zero he has one choice put neagtive number to give two solution from two equation \n",
    "\n",
    "else: \n",
    "    x1 = (-b+math.sqrt((b**2)-(4*(a*c))))/(2*a)\n",
    "    x2 = (-b-math.sqrt((b**2)-(4*(a*c))))/(2*a)\n",
    "    print (\" the equation have {} and {} \".format (x1, x2))"
   ]
  },
  {
   "cell_type": "code",
   "execution_count": null,
   "metadata": {},
   "outputs": [],
   "source": []
  },
  {
   "cell_type": "code",
   "execution_count": null,
   "metadata": {},
   "outputs": [],
   "source": []
  }
 ],
 "metadata": {
  "celltoolbar": "Attachments",
  "kernelspec": {
   "display_name": "Python 3",
   "language": "python",
   "name": "python3"
  },
  "language_info": {
   "codemirror_mode": {
    "name": "ipython",
    "version": 3
   },
   "file_extension": ".py",
   "mimetype": "text/x-python",
   "name": "python",
   "nbconvert_exporter": "python",
   "pygments_lexer": "ipython3",
   "version": "3.7.3"
  }
 },
 "nbformat": 4,
 "nbformat_minor": 2
}
